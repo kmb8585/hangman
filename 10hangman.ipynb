{
 "cells": [
  {
   "cell_type": "code",
   "execution_count": null,
   "id": "medieval-territory",
   "metadata": {},
   "outputs": [],
   "source": [
    "def hangman (word):\n",
    "    wrong = 0\n",
    "    stages = [\"\",\n",
    "             \"__________          \",\n",
    "             \"|                   \",\n",
    "             \"|         |         \",\n",
    "             \"|         O         \",\n",
    "             \"|        /|\\        \",\n",
    "             \"|        / \\        \",\n",
    "             \"|                   \"\n",
    "             ]\n",
    "            \n",
    "    rletters = list(word)\n",
    "    board = [\"_\"] * len(word)\n",
    "    win = False\n",
    "    print(\"ハングマンへようこそ\")\n",
    "    while wrong < len(stages) - 1:\n",
    "        print(\"\\n\")\n",
    "        msg = \"1文字を予想してね\"\n",
    "        char = input (msg)\n",
    "        if char in rletters:\n",
    "            cind = rletters.index(char)\n",
    "            board[cind] = char\n",
    "            rletters[cind] = '$'\n",
    "        else:\n",
    "            wrong += 1\n",
    "        print(\" \".join(board))\n",
    "        e = wrong + 1\n",
    "        print(\"\\n\".join(stages[0:e]))\n",
    "        if \"_\" not in board:\n",
    "            print (\"あなたの勝ち！\")\n",
    "            print (\" \".join(board))\n",
    "            win = True\n",
    "            break\n",
    "\n",
    "        if not win:\n",
    "            print(\"\\n\".join(stages[0:wrong+1]))\n",
    "            print(\"あなたの負け！正解は{}.\".format(word))\n",
    "        \n",
    "hangman(\"oran\")\n",
    "\n"
   ]
  },
  {
   "cell_type": "code",
   "execution_count": null,
   "id": "intellectual-question",
   "metadata": {},
   "outputs": [],
   "source": []
  },
  {
   "cell_type": "code",
   "execution_count": null,
   "id": "broadband-resident",
   "metadata": {},
   "outputs": [],
   "source": []
  },
  {
   "cell_type": "code",
   "execution_count": null,
   "id": "elementary-recorder",
   "metadata": {
    "tags": []
   },
   "outputs": [],
   "source": [
    "def hangman(word):\n",
    "    wrong = 0\n",
    "    stages = [\"\",\n",
    "             \"________        \",\n",
    "             \"|               \",\n",
    "             \"|        |      \",\n",
    "             \"|        0      \",\n",
    "             \"|       /|\\     \",\n",
    "             \"|       / \\     \",\n",
    "             \"|               \"\n",
    "              ]\n",
    "    rletters = list(word)\n",
    "    board = [\"__\"] * len(word)\n",
    "    win = False\n",
    "    print(\"Welcome to Hangman\")\n",
    "    while wrong < len(stages) - 1:\n",
    "        print(\"\\n\")\n",
    "        msg = \"Guess a letter\"\n",
    "        char = input(msg)\n",
    "        if char in rletters:\n",
    "            cind = rletters \\\n",
    "                   .index(char)\n",
    "            board[cind] = char\n",
    "            rletters[cind] = '$'\n",
    "        else:\n",
    "            wrong += 1\n",
    "        print((\" \".join(board)))\n",
    "        e = wrong + 1\n",
    "        print(\"\\n\"\n",
    "              .join(stages[0: e]))\n",
    "        if \"__\" not in board:\n",
    "            print(\"You win!\")\n",
    "            print(\" \".join(board))\n",
    "            win = True\n",
    "            break\n",
    "    if not win:\n",
    "        print(\"\\n\"\n",
    "              .join(stages[0: \\\n",
    "              wrong]))\n",
    "        print(\"You lose! It was {}.\"\n",
    "              .format(word))\n",
    "\n",
    "hangman(\"orange\")"
   ]
  },
  {
   "cell_type": "code",
   "execution_count": null,
   "id": "advanced-april",
   "metadata": {},
   "outputs": [],
   "source": []
  },
  {
   "cell_type": "code",
   "execution_count": null,
   "id": "informal-armstrong",
   "metadata": {},
   "outputs": [],
   "source": []
  },
  {
   "cell_type": "code",
   "execution_count": null,
   "id": "reasonable-literacy",
   "metadata": {},
   "outputs": [],
   "source": []
  }
 ],
 "metadata": {
  "kernelspec": {
   "display_name": "Python 3",
   "language": "python",
   "name": "python3"
  },
  "language_info": {
   "codemirror_mode": {
    "name": "ipython",
    "version": 3
   },
   "file_extension": ".py",
   "mimetype": "text/x-python",
   "name": "python",
   "nbconvert_exporter": "python",
   "pygments_lexer": "ipython3",
   "version": "3.9.2"
  }
 },
 "nbformat": 4,
 "nbformat_minor": 5
}
